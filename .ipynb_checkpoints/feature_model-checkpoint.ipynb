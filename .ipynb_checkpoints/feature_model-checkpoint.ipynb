{
 "cells": [
  {
   "cell_type": "markdown",
   "metadata": {},
   "source": [
    "First Models on the MITBIH Database"
   ]
  },
  {
   "cell_type": "code",
   "execution_count": 1,
   "metadata": {},
   "outputs": [],
   "source": [
    "import wfdb\n",
    "import scipy as sci\n",
    "import matplotlib.pyplot as plt\n",
    "import pandas as pd\n",
    "import numpy as np\n",
    "import scipy.fftpack\n",
    "from scipy.signal import medfilt\n",
    "#%matplotlib inline"
   ]
  },
  {
   "cell_type": "markdown",
   "metadata": {},
   "source": [
    "1. Data source"
   ]
  },
  {
   "cell_type": "code",
   "execution_count": 2,
   "metadata": {},
   "outputs": [],
   "source": [
    "# List of all patients\n",
    "\n",
    "patients_id = []\n",
    "\n",
    "with open('mitbih/file_list.txt', 'r') as files:\n",
    "    for f in files:\n",
    "        record_nb = str(f[:3])\n",
    "        patients_id.append(int(f[:3]))\n",
    "        \n",
    "df_patient = pd.DataFrame(index=patients_id)"
   ]
  },
  {
   "cell_type": "code",
   "execution_count": 3,
   "metadata": {},
   "outputs": [
    {
     "name": "stdout",
     "output_type": "stream",
     "text": [
      "100\n",
      "101\n",
      "102\n",
      "103\n",
      "104\n",
      "105\n",
      "106\n",
      "107\n",
      "108\n",
      "109\n",
      "111\n",
      "112\n",
      "113\n",
      "114\n",
      "115\n",
      "116\n",
      "117\n",
      "118\n",
      "119\n",
      "121\n",
      "122\n",
      "123\n",
      "124\n",
      "200\n",
      "201\n",
      "202\n",
      "203\n",
      "205\n",
      "207\n",
      "208\n",
      "209\n",
      "210\n",
      "212\n",
      "213\n",
      "214\n",
      "215\n",
      "217\n",
      "219\n",
      "220\n",
      "221\n",
      "222\n",
      "223\n",
      "228\n",
      "230\n",
      "231\n",
      "232\n",
      "233\n",
      "234\n"
     ]
    }
   ],
   "source": [
    "# Create all 10 sec windows\n",
    "\n",
    "# size in seconds of the truncated windows\n",
    "windows_size_seconds = 10\n",
    "\n",
    "# list of all windows and their corresponding annotations\n",
    "all_windows = []\n",
    "all_annot = []\n",
    "\n",
    "# read MITBIH database and generate all 10sec samples\n",
    "with open('mitbih/file_list.txt', 'r') as files:\n",
    "    for f in files:\n",
    "        f_records = []\n",
    "        f_annot = []\n",
    "        record_nb = str(f[:3])\n",
    "        record = wfdb.rdrecord('mitbih/' + record_nb)\n",
    "        sig_len = record.sig_len\n",
    "        annotation = wfdb.rdann('mitbih/' + record_nb, 'atr')\n",
    "        windows_size = windows_size_seconds * record.fs\n",
    "        #windows_nb = sig_len // windows_size\n",
    "        for w in range(0, sig_len-windows_size, windows_size):\n",
    "            f_records.append(wfdb.rdrecord('mitbih/' + record_nb, sampfrom=w, sampto=w+windows_size))\n",
    "            temp_annot = wfdb.rdann('mitbih/' + record_nb, 'atr', sampfrom=w, sampto=w+windows_size)\n",
    "            # move annot to 0: -1 because annotations started at 1 (python array start at 0)\n",
    "            temp_annot.sample -= (w + 1)\n",
    "            f_annot.append(temp_annot)\n",
    "        all_windows.append(f_records)\n",
    "        all_annot.append(f_annot)\n",
    "        print(record_nb)"
   ]
  },
  {
   "cell_type": "code",
   "execution_count": 4,
   "metadata": {},
   "outputs": [
    {
     "name": "stdout",
     "output_type": "stream",
     "text": [
      "nb of patients: 48\n",
      "nb of windows per patient: 180\n"
     ]
    }
   ],
   "source": [
    "\n",
    "# Number of generated samples\n",
    "print('nb of patients:', len(all_windows))\n",
    "print('nb of windows per patient:', len(all_windows[0]))"
   ]
  },
  {
   "cell_type": "code",
   "execution_count": 5,
   "metadata": {},
   "outputs": [
    {
     "ename": "NameError",
     "evalue": "name 'index' is not defined",
     "output_type": "error",
     "traceback": [
      "\u001b[1;31m---------------------------------------------------------------------------\u001b[0m",
      "\u001b[1;31mNameError\u001b[0m                                 Traceback (most recent call last)",
      "\u001b[1;32m<ipython-input-5-3f1b5a5c60c9>\u001b[0m in \u001b[0;36m<module>\u001b[1;34m\u001b[0m\n\u001b[1;32m----> 1\u001b[1;33m \u001b[0mpatient\u001b[0m \u001b[1;33m=\u001b[0m \u001b[0mint\u001b[0m\u001b[1;33m(\u001b[0m\u001b[0mstr\u001b[0m\u001b[1;33m(\u001b[0m\u001b[0mindex\u001b[0m\u001b[1;33m)\u001b[0m\u001b[1;33m[\u001b[0m\u001b[1;33m:\u001b[0m\u001b[1;36m3\u001b[0m\u001b[1;33m]\u001b[0m\u001b[1;33m)\u001b[0m\u001b[1;33m\u001b[0m\u001b[1;33m\u001b[0m\u001b[0m\n\u001b[0m\u001b[0;32m      2\u001b[0m \u001b[0mwindow\u001b[0m \u001b[1;33m=\u001b[0m \u001b[0mint\u001b[0m\u001b[1;33m(\u001b[0m\u001b[0mstr\u001b[0m\u001b[1;33m(\u001b[0m\u001b[0mindex\u001b[0m\u001b[1;33m)\u001b[0m\u001b[1;33m[\u001b[0m\u001b[1;36m3\u001b[0m\u001b[1;33m:\u001b[0m\u001b[1;36m7\u001b[0m\u001b[1;33m]\u001b[0m\u001b[1;33m)\u001b[0m\u001b[1;33m\u001b[0m\u001b[1;33m\u001b[0m\u001b[0m\n\u001b[0;32m      3\u001b[0m \u001b[0mrecord\u001b[0m \u001b[1;33m=\u001b[0m \u001b[0mall_windows\u001b[0m\u001b[1;33m[\u001b[0m\u001b[0mpatients_id\u001b[0m\u001b[1;33m.\u001b[0m\u001b[0mindex\u001b[0m\u001b[1;33m(\u001b[0m\u001b[0mpatient\u001b[0m\u001b[1;33m)\u001b[0m\u001b[1;33m]\u001b[0m\u001b[1;33m[\u001b[0m\u001b[0mwindow\u001b[0m\u001b[1;33m]\u001b[0m\u001b[1;33m\u001b[0m\u001b[1;33m\u001b[0m\u001b[0m\n\u001b[0;32m      4\u001b[0m \u001b[0mannotation\u001b[0m \u001b[1;33m=\u001b[0m \u001b[0mall_annot\u001b[0m\u001b[1;33m[\u001b[0m\u001b[0mpatients_id\u001b[0m\u001b[1;33m.\u001b[0m\u001b[0mindex\u001b[0m\u001b[1;33m(\u001b[0m\u001b[0mpatient\u001b[0m\u001b[1;33m)\u001b[0m\u001b[1;33m]\u001b[0m\u001b[1;33m[\u001b[0m\u001b[0mwindow\u001b[0m\u001b[1;33m]\u001b[0m\u001b[1;33m\u001b[0m\u001b[1;33m\u001b[0m\u001b[0m\n\u001b[0;32m      5\u001b[0m wfdb.plot_items(signal = record.p_signal, \n",
      "\u001b[1;31mNameError\u001b[0m: name 'index' is not defined"
     ]
    }
   ],
   "source": [
    "def plot_single_window(index, copy=True):\n",
    "    patient = int(str(index)[:3])\n",
    "    window = int(str(index)[3:7])\n",
    "    record = all_windows[patients_id.index(patient)][window]\n",
    "    annotation = all_annot[patients_id.index(patient)][window]\n",
    "    wfdb.plot_items(signal = record.p_signal, \n",
    "                ann_samp = [annotation.sample, annotation.sample],\n",
    "                ann_sym = [annotation.symbol, annotation.symbol],\n",
    "                title = 'Record %s from MIT-BIH Arrhythmia Database' % record.record_name,\n",
    "                fs = record.fs,\n",
    "                time_units = 'seconds',\n",
    "                figsize = (16,7)\n",
    "                )"
   ]
  },
  {
   "cell_type": "code",
   "execution_count": null,
   "metadata": {},
   "outputs": [],
   "source": []
  }
 ],
 "metadata": {
  "kernelspec": {
   "display_name": "Python 3",
   "language": "python",
   "name": "python3"
  },
  "language_info": {
   "codemirror_mode": {
    "name": "ipython",
    "version": 3
   },
   "file_extension": ".py",
   "mimetype": "text/x-python",
   "name": "python",
   "nbconvert_exporter": "python",
   "pygments_lexer": "ipython3",
   "version": "3.7.4"
  }
 },
 "nbformat": 4,
 "nbformat_minor": 2
}
